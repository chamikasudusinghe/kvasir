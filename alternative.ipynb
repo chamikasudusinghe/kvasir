{
 "nbformat": 4,
 "nbformat_minor": 2,
 "metadata": {
  "language_info": {
   "name": "python",
   "codemirror_mode": {
    "name": "ipython",
    "version": 3
   },
   "version": "3.7.4"
  },
  "orig_nbformat": 2,
  "file_extension": ".py",
  "mimetype": "text/x-python",
  "name": "python",
  "npconvert_exporter": "python",
  "pygments_lexer": "ipython3",
  "version": 3
 },
 "cells": [
  {
   "cell_type": "code",
   "execution_count": 1,
   "metadata": {},
   "outputs": [],
   "source": [
    "import os\n",
    "import tensorflow as tf\n",
    "from tensorflow.keras.optimizers import RMSprop\n",
    "from tensorflow.keras.preprocessing.image import ImageDataGenerator"
   ]
  },
  {
   "cell_type": "code",
   "execution_count": 2,
   "metadata": {},
   "outputs": [
    {
     "name": "stdout",
     "output_type": "stream",
     "text": "800\n800\n800\n800\n800\n800\n800\n800\n200\n200\n200\n200\n200\n200\n200\n200\n"
    }
   ],
   "source": [
    "print(len(os.listdir('D:/Project_files/ML/Anomaly detection CNN/train/dyed-lifted-polyps')))\n",
    "print(len(os.listdir('D:/Project_files/ML/Anomaly detection CNN/train/dyed-resection-margins')))\n",
    "print(len(os.listdir('D:/Project_files/ML/Anomaly detection CNN/train/esophagitis')))\n",
    "print(len(os.listdir('D:/Project_files/ML/Anomaly detection CNN/train/normal-cecum')))\n",
    "print(len(os.listdir('D:/Project_files/ML/Anomaly detection CNN/train/normal-pylorus')))\n",
    "print(len(os.listdir('D:/Project_files/ML/Anomaly detection CNN/train/normal-z-line')))\n",
    "print(len(os.listdir('D:/Project_files/ML/Anomaly detection CNN/train/polyps')))\n",
    "print(len(os.listdir('D:/Project_files/ML/Anomaly detection CNN/train/ulcerative-colitis')))\n",
    "\n",
    "print(len(os.listdir('D:/Project_files/ML/Anomaly detection CNN/test/dyed-lifted-polyps')))\n",
    "print(len(os.listdir('D:/Project_files/ML/Anomaly detection CNN/test/dyed-resection-margins')))\n",
    "print(len(os.listdir('D:/Project_files/ML/Anomaly detection CNN/test/esophagitis')))\n",
    "print(len(os.listdir('D:/Project_files/ML/Anomaly detection CNN/test/normal-cecum')))\n",
    "print(len(os.listdir('D:/Project_files/ML/Anomaly detection CNN/test/normal-pylorus')))\n",
    "print(len(os.listdir('D:/Project_files/ML/Anomaly detection CNN/test/normal-z-line')))\n",
    "print(len(os.listdir('D:/Project_files/ML/Anomaly detection CNN/test/polyps')))\n",
    "print(len(os.listdir('D:/Project_files/ML/Anomaly detection CNN/test/ulcerative-colitis')))"
   ]
  },
  {
   "cell_type": "code",
   "execution_count": 14,
   "metadata": {},
   "outputs": [],
   "source": [
    "model = tf.keras.models.Sequential([\n",
    "    tf.keras.layers.Conv2D(16, (3, 3), activation='relu', input_shape=(150, 150, 3)),\n",
    "    tf.keras.layers.MaxPooling2D(2, 2),\n",
    "    tf.keras.layers.Conv2D(32, (3, 3), activation='relu'),\n",
    "    tf.keras.layers.MaxPooling2D(2, 2),\n",
    "    tf.keras.layers.Conv2D(64, (3, 3), activation='relu'),\n",
    "    tf.keras.layers.MaxPooling2D(2, 2),\n",
    "    tf.keras.layers.Flatten(),\n",
    "    tf.keras.layers.Dense(512, activation='relu'),\n",
    "    tf.keras.layers.Dense(8, activation='sigmoid')\n",
    "])\n",
    "\n",
    "model.compile(optimizer=RMSprop(lr=0.001), loss='categorical_crossentropy', metrics=['acc'])"
   ]
  },
  {
   "cell_type": "code",
   "execution_count": 17,
   "metadata": {},
   "outputs": [
    {
     "name": "stdout",
     "output_type": "stream",
     "text": "Found 6400 images belonging to 8 classes.\n"
    }
   ],
   "source": [
    "TRAINING_DIR = 'D:/Project_files/ML/Anomaly detection CNN/train'\n",
    "\n",
    "train_datagen = ImageDataGenerator(rescale=1./255,\n",
    "      rotation_range=40,\n",
    "      width_shift_range=0.2,\n",
    "      height_shift_range=0.2,\n",
    "      horizontal_flip=True,\n",
    "      fill_mode='nearest')\n",
    "train_generator = train_datagen.flow_from_directory(TRAINING_DIR,\n",
    "                                                    batch_size=100,\n",
    "                                                    class_mode='categorical',\n",
    "                                                    target_size=(150, 150))"
   ]
  },
  {
   "cell_type": "code",
   "execution_count": 18,
   "metadata": {},
   "outputs": [
    {
     "name": "stdout",
     "output_type": "stream",
     "text": "Found 1600 images belonging to 8 classes.\n"
    }
   ],
   "source": [
    "VALIDATION_DIR = 'D:/Project_files/ML/Anomaly detection CNN/test'\n",
    "\n",
    "validation_datagen = ImageDataGenerator(rescale=1./255,\n",
    "      rotation_range=40,\n",
    "      width_shift_range=0.2,\n",
    "      height_shift_range=0.2,\n",
    "      horizontal_flip=True,\n",
    "      fill_mode='nearest')\n",
    "validation_generator = validation_datagen.flow_from_directory(VALIDATION_DIR,\n",
    "                                                              batch_size=100,\n",
    "                                                              class_mode='categorical',\n",
    "                                                              target_size=(150, 150))"
   ]
  },
  {
   "cell_type": "code",
   "execution_count": 19,
   "metadata": {},
   "outputs": [
    {
     "name": "stdout",
     "output_type": "stream",
     "text": "Epoch 1/15\n64/64 [==============================] - 1117s 17s/step - loss: 1.6528 - acc: 0.3048 - val_loss: 1.1467 - val_acc: 0.4781\nEpoch 2/15\n64/64 [==============================] - 728s 11s/step - loss: 1.1023 - acc: 0.4786 - val_loss: 1.7286 - val_acc: 0.3663\nEpoch 3/15\n64/64 [==============================] - 5550s 87s/step - loss: 0.9791 - acc: 0.5261 - val_loss: 0.9373 - val_acc: 0.5263\nEpoch 4/15\n64/64 [==============================] - 511s 8s/step - loss: 0.9301 - acc: 0.5489 - val_loss: 0.8892 - val_acc: 0.5525\nEpoch 5/15\n63/64 [============================>.] - ETA: 3s - loss: 0.8805 - acc: 0.5756"
    }
   ],
   "source": [
    "history = model.fit_generator(train_generator,\n",
    "                              epochs=15,\n",
    "                              verbose=1,\n",
    "                              validation_data=validation_generator)"
   ]
  },
  {
   "cell_type": "code",
   "execution_count": null,
   "metadata": {},
   "outputs": [],
   "source": [
    "model.save(\"D:/Project_files/ML/Anomaly detection CNN/model.h5\")"
   ]
  },
  {
   "cell_type": "code",
   "execution_count": 0,
   "metadata": {},
   "outputs": [],
   "source": [
    "%matplotlib inline\n",
    "\n",
    "import matplotlib.image  as mpimg\n",
    "import matplotlib.pyplot as plt\n",
    "\n",
    "#-----------------------------------------------------------\n",
    "# Retrieve a list of list results on training and test data\n",
    "# sets for each training epoch\n",
    "#-----------------------------------------------------------\n",
    "acc=history.history['acc']\n",
    "val_acc=history.history['val_acc']\n",
    "loss=history.history['loss']\n",
    "val_loss=history.history['val_loss']\n",
    "\n",
    "epochs=range(len(acc)) # Get number of epochs\n",
    "\n",
    "#------------------------------------------------\n",
    "# Plot training and validation accuracy per epoch\n",
    "#------------------------------------------------\n",
    "plt.plot(epochs, acc, 'r', \"Training Accuracy\")\n",
    "plt.plot(epochs, val_acc, 'b', \"Validation Accuracy\")\n",
    "plt.title('Training and validation accuracy')\n",
    "plt.figure()\n",
    "\n",
    "#------------------------------------------------\n",
    "# Plot training and validation loss per epoch\n",
    "#------------------------------------------------\n",
    "plt.plot(epochs, loss, 'r', \"Training Loss\")\n",
    "plt.plot(epochs, val_loss, 'b', \"Validation Loss\")\n",
    "plt.figure()\n"
   ]
  },
  {
   "cell_type": "code",
   "execution_count": 0,
   "metadata": {},
   "outputs": [],
   "source": []
  }
 ]
}