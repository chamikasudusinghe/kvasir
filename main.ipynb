{
 "nbformat": 4,
 "nbformat_minor": 2,
 "metadata": {
  "language_info": {
   "name": "python",
   "codemirror_mode": {
    "name": "ipython",
    "version": 3
   },
   "version": "3.7.4"
  },
  "orig_nbformat": 2,
  "file_extension": ".py",
  "mimetype": "text/x-python",
  "name": "python",
  "npconvert_exporter": "python",
  "pygments_lexer": "ipython3",
  "version": 3
 },
 "cells": [
  {
   "cell_type": "code",
   "execution_count": null,
   "metadata": {},
   "outputs": [],
   "source": [
    "Anomaly Detection Using CNN"
   ]
  },
  {
   "cell_type": "code",
   "execution_count": 1,
   "metadata": {},
   "outputs": [
    {
     "name": "stdout",
     "output_type": "stream",
     "text": "Hello World\n"
    }
   ],
   "source": [
    "print('Hello World')"
   ]
  },
  {
   "cell_type": "code",
   "execution_count": 2,
   "metadata": {},
   "outputs": [],
   "source": [
    "import tensorflow as tf\n",
    "import numpy as np\n",
    "import matplotlib.pyplot as plt\n",
    "import os\n",
    "import cv2\n",
    "from sklearn.model_selection import train_test_split"
   ]
  },
  {
   "cell_type": "code",
   "execution_count": 3,
   "metadata": {},
   "outputs": [],
   "source": [
    "categories = [\n",
    "            'dyed-lifted-polyps',\n",
    "            'dyed-resection-margins',\n",
    "            'esophagitis',\n",
    "            'normal-cecum',\n",
    "            'normal-pylorus',\n",
    "            'normal-pylorus',\n",
    "            'polyps',\n",
    "            'ulcerative-colitis']"
   ]
  },
  {
   "cell_type": "code",
   "execution_count": 4,
   "metadata": {},
   "outputs": [],
   "source": [
    "path = os.path.join('kvasir-dataset-v2',categories[0])\n",
    "# print(os.listdir(path))"
   ]
  },
  {
   "cell_type": "code",
   "execution_count": 44,
   "metadata": {},
   "outputs": [],
   "source": [
    "test_x = np.zeros((200,48,48,3))\n",
    "test_y = []\n",
    "train_x = np.zeros((800,48,48,3))\n",
    "train_y = []"
   ]
  },
  {
   "cell_type": "code",
   "execution_count": 48,
   "metadata": {},
   "outputs": [
    {
     "name": "stdout",
     "output_type": "stream",
     "text": "(800, 48, 48, 3)\n(800, 48, 48, 3)\n(800, 48, 48, 3)\n(800, 48, 48, 3)\n(800, 48, 48, 3)\n(800, 48, 48, 3)\n(800, 48, 48, 3)\n(800, 48, 48, 3)\n"
    }
   ],
   "source": [
    "for category in categories:\n",
    "    x = []\n",
    "    y = []\n",
    "    temp_train_x = []\n",
    "    temp_test_x = []\n",
    "    temp_train_y = []\n",
    "    temp_test_y = []\n",
    "    path = os.path.join('kvasir-dataset-v2',category)\n",
    "    cat_class = categories.index(category)\n",
    "    for img in os.listdir(path):\n",
    "        img_path = os.path.join(path, img)\n",
    "        img_array = cv2.imread(img_path)\n",
    "        new_array = cv2.resize(img_array,(48,48))\n",
    "        x.append(new_array)\n",
    "        y.append(cat_class)\n",
    "    x = np.array(x).reshape(1000,48,48,3)\n",
    "    temp_train_x,temp_test_x,temp_train_y,temp_test_y = train_test_split(x,y,test_size=0.2,random_state=42)\n",
    "    print(temp_train_x.shape)\n",
    "    # print(type(temp_test_x))\n",
    "    test_x += temp_test_x\n",
    "    train_x += temp_train_x\n",
    "    test_y += temp_test_y\n",
    "    train_y += temp_train_y"
   ]
  },
  {
   "cell_type": "code",
   "execution_count": 47,
   "metadata": {},
   "outputs": [
    {
     "data": {
      "text/plain": "(200, 48, 48, 3)"
     },
     "execution_count": 47,
     "metadata": {},
     "output_type": "execute_result"
    }
   ],
   "source": [
    "test_x.shape"
   ]
  },
  {
   "cell_type": "code",
   "execution_count": null,
   "metadata": {},
   "outputs": [],
   "source": []
  }
 ]
}